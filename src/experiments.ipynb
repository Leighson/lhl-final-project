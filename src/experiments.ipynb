{
 "cells": [
  {
   "cell_type": "markdown",
   "metadata": {},
   "source": [
    "# Object Detection: Bounding Box Regressiong with Keras, TensorFlow, and Deep Learning"
   ]
  },
  {
   "cell_type": "markdown",
   "metadata": {},
   "source": [
    "Custom deep learning model to perform object detection via bounding box regression with Keras and Tensorflow."
   ]
  },
  {
   "cell_type": "markdown",
   "metadata": {},
   "source": [
    "## Basic R-CNN Object Detectors"
   ]
  },
  {
   "cell_type": "markdown",
   "metadata": {},
   "source": [
    "These detectors rely on the concept of **region proposal** regenerators.\n",
    "\n",
    "These region proposal algorithms (e.g., Selective Search) examing an input image and then identify where a potential object _could_ be. It doesn't yet know if an object exists in a given location, just that the area of the image looks interesting and warrants further inspection.\n",
    "\n",
    "In the classic implementation,these region proposals were used to extract output features from a pre-trained CNN and then were fed into an SVM for final classification. In this implementation, the location from the regional proposal was treated as the bounding box, while the SVM produced the class label for the bounding box region.\n",
    "\n",
    "Essentially, the original R-CNN architecture didn't _learn_ how to detect bounding boxes--it was not end-to-end trainable. The key then is the concept of bounding box regression."
   ]
  },
  {
   "cell_type": "markdown",
   "metadata": {},
   "source": [
    "## What is Bounding Box Regression?"
   ]
  },
  {
   "cell_type": "markdown",
   "metadata": {},
   "source": [
    "`Image Classification`:\n",
    "- present an input image to the CNN\n",
    "- perform a forward pass through the CNN\n",
    "- output a vector with _N_ elements, where _N_ is the total number of class labels\n",
    "- select the class label with the largest probability as our final predicted class label\n",
    "\n",
    "Unfortunately, that type of model doesn't translate to object detection. It would be impossible for us to construct a class label for every possible combination of xy-coordinate bounding boxes in an input image.\n",
    "\n",
    "Instead, we need to rely on a different type of machine learning called _regression_. Unlike classification, which produces a label, regression enables us to predict continuous values.\n",
    "\n",
    "Typically, we scale the output range of values to [0, 1] during training and then scale the outputs back after prediction (if needed).\n",
    "\n",
    "`Bounding Box Regression`:\n",
    "- at the head of the network, place a fully-connected layer with four neurons corresponding to the top-left and bottom-right xy-coordinates\n",
    "- given that four-neuron layer, implement a sigmoid activation function such that the outputs are returned in the range of [0, 1]\n",
    "- train the model using a loss function such as MSE or MAE on training data that consists of:\n",
    "    1. the input images\n",
    "    2. the bounding box of the object in the image\n",
    "\n",
    "After Training, we can present an input image to our bounding box regressor network. Our network will then perform a forward pass and then predict the output bounding box coordinates of the object."
   ]
  },
  {
   "cell_type": "markdown",
   "metadata": {},
   "source": [
    "### Build Dynamic Paths to Configuration File, `config.py`"
   ]
  },
  {
   "cell_type": "code",
   "execution_count": 14,
   "metadata": {},
   "outputs": [],
   "source": [
    "import os\n",
    "\n",
    "BASE_PATH = '../data/caltech-101/'\n",
    "IMAGES_PATH = os.path.sep.join([BASE_PATH, '101_ObjectCategories/airplanes'])\n",
    "ANNOTS_PATH = os.path.sep.join([BASE_PATH, 'Annotations/Airplanes_Side_2'])"
   ]
  },
  {
   "cell_type": "code",
   "execution_count": 15,
   "metadata": {},
   "outputs": [],
   "source": [
    "from scipy.io import loadmat\n",
    "\n",
    "annots = loadmat(os.path.sep.join([ANNOTS_PATH, 'annotation_0001.mat']))"
   ]
  },
  {
   "cell_type": "code",
   "execution_count": 16,
   "metadata": {},
   "outputs": [
    {
     "data": {
      "text/plain": [
       "{'__header__': b'MATLAB 5.0 MAT-file, Platform: PCWIN, Created on: Tue Dec 14 11:03:29 2004',\n",
       " '__version__': '1.0',\n",
       " '__globals__': [],\n",
       " 'box_coord': array([[ 30, 137,  49, 349]], dtype=uint16),\n",
       " 'obj_contour': array([[  8.54082661,  11.87852823,   1.86542339,   1.56199597,\n",
       "          31.60131048,  27.65675403,  23.71219758,  18.85735887,\n",
       "          18.85735887,  31.60131048,  47.68296371,  51.32409274,\n",
       "          59.51663306,  60.1234879 ,  56.78578629,  78.02570565,\n",
       "          91.07308468, 178.46018145, 179.97731855, 222.15372984,\n",
       "         225.79485887, 239.75252016, 265.84727823, 298.92086694,\n",
       "         300.13457661, 298.3140121 , 265.54385081, 264.63356855,\n",
       "         270.39868952, 268.88155242, 265.84727823, 264.02671371,\n",
       "         260.08215726, 255.83417339, 257.6547379 , 261.90272177,\n",
       "         261.90272177, 160.25453629, 160.25453629, 156.00655242,\n",
       "         155.39969758, 149.33114919, 142.04889113, 139.31804435,\n",
       "         139.92489919, 143.26260081, 136.28377016, 128.09122984,\n",
       "         124.45010081, 123.53981855, 122.93296371, 117.47127016,\n",
       "          73.77772177,  68.61945565,  44.95211694,  38.27671371,\n",
       "          36.15272177,   8.23739919,   8.54082661],\n",
       "        [ 75.89163306,  62.54082661,  59.80997984,  56.77570565,\n",
       "          51.01058468,  35.23235887,  11.26159274,  10.35131048,\n",
       "           6.10332661,   1.2484879 ,   3.37247984,  12.171875  ,\n",
       "          12.47530242,  19.15070565,  18.54385081,  47.97631048,\n",
       "          51.3140121 ,  49.19002016,  44.03175403,  45.54889113,\n",
       "          51.3140121 ,  55.25856855,  72.85735887,  85.60131048,\n",
       "          90.15272177,  90.75957661,  92.58014113,  94.09727823,\n",
       "          95.3109879 , 100.77268145, 101.37953629, 104.7172379 ,\n",
       "         105.93094758, 102.28981855,  95.3109879 ,  94.70413306,\n",
       "          91.66985887,  90.15272177,  97.13155242,  97.73840726,\n",
       "         102.89667339, 105.32409274, 104.7172379 ,  97.43497984,\n",
       "          93.79385081,  91.36643145,  88.9390121 ,  88.33215726,\n",
       "          92.88356855,  92.58014113,  88.63558468,  86.81502016,\n",
       "          83.78074597,  85.9047379 ,  82.87046371,  85.60131048,\n",
       "          80.13961694,  75.28477823,  75.58820565]])}"
      ]
     },
     "execution_count": 16,
     "metadata": {},
     "output_type": "execute_result"
    }
   ],
   "source": [
    "annots"
   ]
  },
  {
   "cell_type": "code",
   "execution_count": null,
   "metadata": {},
   "outputs": [],
   "source": []
  }
 ],
 "metadata": {
  "kernelspec": {
   "display_name": "Python 3.8.13 ('lighthouse')",
   "language": "python",
   "name": "python3"
  },
  "language_info": {
   "codemirror_mode": {
    "name": "ipython",
    "version": 3
   },
   "file_extension": ".py",
   "mimetype": "text/x-python",
   "name": "python",
   "nbconvert_exporter": "python",
   "pygments_lexer": "ipython3",
   "version": "3.8.13"
  },
  "orig_nbformat": 4,
  "vscode": {
   "interpreter": {
    "hash": "f6bdb6bebcaa6c165db367a86e382ae8df75f09257c40532b854029e0e3d706f"
   }
  }
 },
 "nbformat": 4,
 "nbformat_minor": 2
}
